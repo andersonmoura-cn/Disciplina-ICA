{
 "cells": [
  {
   "cell_type": "code",
   "execution_count": 1,
   "id": "46cf4158",
   "metadata": {},
   "outputs": [
    {
     "name": "stderr",
     "output_type": "stream",
     "text": [
      "c:\\Users\\rodwa\\AppData\\Local\\Programs\\Python\\Python312\\Lib\\site-packages\\tqdm\\auto.py:21: TqdmWarning: IProgress not found. Please update jupyter and ipywidgets. See https://ipywidgets.readthedocs.io/en/stable/user_install.html\n",
      "  from .autonotebook import tqdm as notebook_tqdm\n"
     ]
    }
   ],
   "source": [
    "import numpy as np\n",
    "import pandas as pd\n",
    "import matplotlib.pyplot as plt\n",
    "import kagglehub\n",
    "import seaborn as sns\n",
    "from pathlib import Path"
   ]
  },
  {
   "cell_type": "code",
   "execution_count": 2,
   "id": "4ea2c7c5",
   "metadata": {},
   "outputs": [],
   "source": [
    "path = kagglehub.dataset_download(\"vinayakshanawad/heart-rate-prediction-to-monitor-stress-level\")"
   ]
  },
  {
   "cell_type": "code",
   "execution_count": 3,
   "id": "54cb3804",
   "metadata": {},
   "outputs": [
    {
     "name": "stdout",
     "output_type": "stream",
     "text": [
      "Arquivos de treino: [WindowsPath('C:/Users/rodwa/.cache/kagglehub/datasets/vinayakshanawad/heart-rate-prediction-to-monitor-stress-level/versions/1/Train Data/Train Data Zip/frequency_domain_features_train.csv'), WindowsPath('C:/Users/rodwa/.cache/kagglehub/datasets/vinayakshanawad/heart-rate-prediction-to-monitor-stress-level/versions/1/Train Data/Train Data Zip/heart_rate_non_linear_features_train.csv'), WindowsPath('C:/Users/rodwa/.cache/kagglehub/datasets/vinayakshanawad/heart-rate-prediction-to-monitor-stress-level/versions/1/Train Data/Train Data Zip/time_domain_features_train.csv')]\n",
      "\n",
      "Arquivos de teste: [WindowsPath('C:/Users/rodwa/.cache/kagglehub/datasets/vinayakshanawad/heart-rate-prediction-to-monitor-stress-level/versions/1/Test Data/Test Zip/frequency_domain_features_test.csv'), WindowsPath('C:/Users/rodwa/.cache/kagglehub/datasets/vinayakshanawad/heart-rate-prediction-to-monitor-stress-level/versions/1/Test Data/Test Zip/heart_rate_non_linear_features_test.csv'), WindowsPath('C:/Users/rodwa/.cache/kagglehub/datasets/vinayakshanawad/heart-rate-prediction-to-monitor-stress-level/versions/1/Test Data/Test Zip/time_domain_features_test.csv')]\n"
     ]
    }
   ],
   "source": [
    "p = Path(path)\n",
    "\n",
    "train_path = p / \"Train Data\" / \"Train Data Zip\"\n",
    "test_path = p / \"Test Data\" / \"Test Zip\"\n",
    "\n",
    "train_files = list(train_path.rglob(\"*.csv\"))\n",
    "print(\"Arquivos de treino:\", train_files)\n",
    "\n",
    "print()\n",
    "\n",
    "test_files = list(test_path.rglob(\"*.csv\"))\n",
    "print(\"Arquivos de teste:\", test_files)"
   ]
  },
  {
   "cell_type": "code",
   "execution_count": 4,
   "id": "b9c2351c",
   "metadata": {},
   "outputs": [],
   "source": [
    "# função para determinar o df desejado\n",
    "\n",
    "def dataframe(dominio):\n",
    "    file_desejado = [f for f in train_files if dominio in f.name.lower()][0]\n",
    "    \n",
    "    df_desejado = pd.read_csv(file_desejado)\n",
    "    print(df_desejado.shape)\n",
    "    print(df_desejado.columns)\n",
    "    \n",
    "    return df_desejado\n",
    "    "
   ]
  },
  {
   "cell_type": "code",
   "execution_count": 5,
   "id": "c22ac322",
   "metadata": {},
   "outputs": [
    {
     "name": "stdout",
     "output_type": "stream",
     "text": [
      "(369289, 20)\n",
      "Index(['MEAN_RR', 'MEDIAN_RR', 'SDRR', 'RMSSD', 'SDSD', 'SDRR_RMSSD', 'HR',\n",
      "       'pNN25', 'pNN50', 'KURT', 'SKEW', 'MEAN_REL_RR', 'MEDIAN_REL_RR',\n",
      "       'SDRR_REL_RR', 'RMSSD_REL_RR', 'SDSD_REL_RR', 'SDRR_RMSSD_REL_RR',\n",
      "       'KURT_REL_RR', 'SKEW_REL_RR', 'uuid'],\n",
      "      dtype='object')\n",
      "(369289, 12)\n",
      "Index(['uuid', 'VLF', 'VLF_PCT', 'LF', 'LF_PCT', 'LF_NU', 'HF', 'HF_PCT',\n",
      "       'HF_NU', 'TP', 'LF_HF', 'HF_LF'],\n",
      "      dtype='object')\n",
      "(369289, 7)\n",
      "Index(['uuid', 'SD1', 'SD2', 'sampen', 'higuci', 'datasetId', 'condition'], dtype='object')\n"
     ]
    }
   ],
   "source": [
    "# df no dominio do tempo\n",
    "df_treino_tempo = dataframe(\"time_domain\")\n",
    "\n",
    "# df no dominio do frequencia\n",
    "df_treino_freq = dataframe(\"frequency_domain\")\n",
    "\n",
    "# df no dominio não linear\n",
    "df_treino_nao_linear = dataframe(\"non_linear\")"
   ]
  },
  {
   "cell_type": "code",
   "execution_count": 6,
   "id": "87af603f",
   "metadata": {},
   "outputs": [],
   "source": [
    "# merge dos df \n",
    "df_treino_0 = df_treino_nao_linear.merge(df_treino_freq, on='uuid', how='inner',validate='one_to_one')\n",
    "df_treino = df_treino_0.merge(df_treino_tempo, on='uuid', how='inner',validate='one_to_one')"
   ]
  },
  {
   "cell_type": "code",
   "execution_count": 12,
   "id": "5112ccb1",
   "metadata": {},
   "outputs": [],
   "source": [
    "df = df_treino.copy()"
   ]
  },
  {
   "cell_type": "code",
   "execution_count": 13,
   "id": "2cc1dd61",
   "metadata": {},
   "outputs": [],
   "source": [
    "# removendo ID's\n",
    "df.drop(['datasetId', 'uuid'], axis=1,inplace=True)"
   ]
  },
  {
   "cell_type": "markdown",
   "id": "1358214f",
   "metadata": {},
   "source": [
    "Perform an unconditional multi-variate analysis of the predictors. Specifically, you\n",
    "must implement the principal components analysis (PCA) yourself without using\n",
    "pre-made PCA functions or libraries. For visualisation purposes, retain only the\n",
    "first two principal components (those associated with the two largest eigenvalues)\n",
    "and plot the scatter plot of the projected observations. Again, for each projected\n",
    "point (observation) you must use colours or symbols to indicate the associated class\n",
    "label. [Remember to perform the necessary pre-processing of the data]."
   ]
  },
  {
   "cell_type": "code",
   "execution_count": 15,
   "id": "0aa9555c",
   "metadata": {},
   "outputs": [
    {
     "data": {
      "text/html": [
       "<div>\n",
       "<style scoped>\n",
       "    .dataframe tbody tr th:only-of-type {\n",
       "        vertical-align: middle;\n",
       "    }\n",
       "\n",
       "    .dataframe tbody tr th {\n",
       "        vertical-align: top;\n",
       "    }\n",
       "\n",
       "    .dataframe thead th {\n",
       "        text-align: right;\n",
       "    }\n",
       "</style>\n",
       "<table border=\"1\" class=\"dataframe\">\n",
       "  <thead>\n",
       "    <tr style=\"text-align: right;\">\n",
       "      <th></th>\n",
       "      <th>SD1</th>\n",
       "      <th>SD2</th>\n",
       "      <th>sampen</th>\n",
       "      <th>higuci</th>\n",
       "      <th>VLF</th>\n",
       "      <th>VLF_PCT</th>\n",
       "      <th>LF</th>\n",
       "      <th>LF_PCT</th>\n",
       "      <th>LF_NU</th>\n",
       "      <th>HF</th>\n",
       "      <th>...</th>\n",
       "      <th>KURT</th>\n",
       "      <th>SKEW</th>\n",
       "      <th>MEAN_REL_RR</th>\n",
       "      <th>MEDIAN_REL_RR</th>\n",
       "      <th>SDRR_REL_RR</th>\n",
       "      <th>RMSSD_REL_RR</th>\n",
       "      <th>SDSD_REL_RR</th>\n",
       "      <th>SDRR_RMSSD_REL_RR</th>\n",
       "      <th>KURT_REL_RR</th>\n",
       "      <th>SKEW_REL_RR</th>\n",
       "    </tr>\n",
       "  </thead>\n",
       "  <tbody>\n",
       "    <tr>\n",
       "      <th>0</th>\n",
       "      <td>11.001565</td>\n",
       "      <td>199.061782</td>\n",
       "      <td>2.139754</td>\n",
       "      <td>1.163485</td>\n",
       "      <td>2661.894136</td>\n",
       "      <td>72.203287</td>\n",
       "      <td>1009.249419</td>\n",
       "      <td>27.375666</td>\n",
       "      <td>98.485263</td>\n",
       "      <td>15.522603</td>\n",
       "      <td>...</td>\n",
       "      <td>-0.856554</td>\n",
       "      <td>0.335218</td>\n",
       "      <td>-0.000203</td>\n",
       "      <td>-0.000179</td>\n",
       "      <td>0.017080</td>\n",
       "      <td>0.007969</td>\n",
       "      <td>0.007969</td>\n",
       "      <td>2.143342</td>\n",
       "      <td>-0.856554</td>\n",
       "      <td>0.335218</td>\n",
       "    </tr>\n",
       "    <tr>\n",
       "      <th>1</th>\n",
       "      <td>9.170129</td>\n",
       "      <td>114.634458</td>\n",
       "      <td>2.174499</td>\n",
       "      <td>1.084711</td>\n",
       "      <td>2314.265450</td>\n",
       "      <td>76.975728</td>\n",
       "      <td>690.113275</td>\n",
       "      <td>22.954139</td>\n",
       "      <td>99.695397</td>\n",
       "      <td>2.108525</td>\n",
       "      <td>...</td>\n",
       "      <td>-0.408190</td>\n",
       "      <td>-0.155286</td>\n",
       "      <td>-0.000059</td>\n",
       "      <td>0.000611</td>\n",
       "      <td>0.013978</td>\n",
       "      <td>0.004769</td>\n",
       "      <td>0.004769</td>\n",
       "      <td>2.930855</td>\n",
       "      <td>-0.408190</td>\n",
       "      <td>-0.155286</td>\n",
       "    </tr>\n",
       "    <tr>\n",
       "      <th>2</th>\n",
       "      <td>11.533417</td>\n",
       "      <td>118.939253</td>\n",
       "      <td>2.135350</td>\n",
       "      <td>1.176315</td>\n",
       "      <td>1373.887112</td>\n",
       "      <td>51.152225</td>\n",
       "      <td>1298.222619</td>\n",
       "      <td>48.335104</td>\n",
       "      <td>98.950472</td>\n",
       "      <td>13.769729</td>\n",
       "      <td>...</td>\n",
       "      <td>0.351789</td>\n",
       "      <td>-0.656813</td>\n",
       "      <td>-0.000011</td>\n",
       "      <td>-0.000263</td>\n",
       "      <td>0.018539</td>\n",
       "      <td>0.008716</td>\n",
       "      <td>0.008716</td>\n",
       "      <td>2.127053</td>\n",
       "      <td>0.351789</td>\n",
       "      <td>-0.656813</td>\n",
       "    </tr>\n",
       "  </tbody>\n",
       "</table>\n",
       "<p>3 rows × 33 columns</p>\n",
       "</div>"
      ],
      "text/plain": [
       "         SD1         SD2    sampen    higuci          VLF    VLF_PCT  \\\n",
       "0  11.001565  199.061782  2.139754  1.163485  2661.894136  72.203287   \n",
       "1   9.170129  114.634458  2.174499  1.084711  2314.265450  76.975728   \n",
       "2  11.533417  118.939253  2.135350  1.176315  1373.887112  51.152225   \n",
       "\n",
       "            LF     LF_PCT      LF_NU         HF  ...      KURT      SKEW  \\\n",
       "0  1009.249419  27.375666  98.485263  15.522603  ... -0.856554  0.335218   \n",
       "1   690.113275  22.954139  99.695397   2.108525  ... -0.408190 -0.155286   \n",
       "2  1298.222619  48.335104  98.950472  13.769729  ...  0.351789 -0.656813   \n",
       "\n",
       "   MEAN_REL_RR  MEDIAN_REL_RR  SDRR_REL_RR  RMSSD_REL_RR  SDSD_REL_RR  \\\n",
       "0    -0.000203      -0.000179     0.017080      0.007969     0.007969   \n",
       "1    -0.000059       0.000611     0.013978      0.004769     0.004769   \n",
       "2    -0.000011      -0.000263     0.018539      0.008716     0.008716   \n",
       "\n",
       "   SDRR_RMSSD_REL_RR  KURT_REL_RR  SKEW_REL_RR  \n",
       "0           2.143342    -0.856554     0.335218  \n",
       "1           2.930855    -0.408190    -0.155286  \n",
       "2           2.127053     0.351789    -0.656813  \n",
       "\n",
       "[3 rows x 33 columns]"
      ]
     },
     "execution_count": 15,
     "metadata": {},
     "output_type": "execute_result"
    }
   ],
   "source": [
    "# removendo colunas-alvo\n",
    "df_2 = df.drop(['condition', 'HR'], axis=1)\n",
    "df_2.head(3)"
   ]
  },
  {
   "cell_type": "markdown",
   "id": "1822531f",
   "metadata": {},
   "source": [
    "Remoção de preditores que estão altamente correlacionados"
   ]
  },
  {
   "cell_type": "code",
   "execution_count": 30,
   "id": "7a9870d3",
   "metadata": {},
   "outputs": [],
   "source": [
    "limiar = 0.8\n",
    "preditores = [i for i in df_2.columns]\n",
    "removidos = []"
   ]
  },
  {
   "cell_type": "code",
   "execution_count": 31,
   "id": "800b00d5",
   "metadata": {},
   "outputs": [],
   "source": [
    "matriz_corr = df_2[preditores].corr(numeric_only=True).abs()"
   ]
  },
  {
   "cell_type": "code",
   "execution_count": 32,
   "id": "27ba8fcf",
   "metadata": {},
   "outputs": [],
   "source": [
    "while True:\n",
    "    np.fill_diagonal(matriz_corr.values, 0) # zera as diagonais\n",
    "    trigSup = matriz_corr.where(np.triu(np.ones(matriz_corr.shape), k=1).astype(bool)) # trig superior\n",
    "\n",
    "    # quando o valor maximo da triangular superior for menor que o limiar, \n",
    "    # significa que todas as colinearidades foram removidas\n",
    "    if trigSup.max().max() <= limiar:\n",
    "        break\n",
    "\n",
    "    # par mais correlacionado\n",
    "    A, B = trigSup.stack().idxmax()\n",
    "\n",
    "    # calculo da média de correlações, removendo com ele prórpio e com a outra escolhida\n",
    "    mA = matriz_corr.loc[A, preditores].drop([A, B]).mean()\n",
    "    mB = matriz_corr.loc[B, preditores].drop([A, B]).mean()\n",
    "\n",
    "    # indicando remover o preditor com a maior média\n",
    "    drop = A if mA >= mB else B\n",
    "\n",
    "    # salvando a mudança\n",
    "    valor_corr = matriz_corr.loc[A, B]\n",
    "    removidos.append((drop, (A, B), float(valor_corr)))\n",
    "\n",
    "    # removendo\n",
    "    preditores.remove(drop)\n",
    "    matriz_corr = matriz_corr.drop(index=drop, columns=drop)\n",
    "    "
   ]
  },
  {
   "cell_type": "code",
   "execution_count": 33,
   "id": "03fd3e9e",
   "metadata": {},
   "outputs": [
    {
     "name": "stdout",
     "output_type": "stream",
     "text": [
      "[('SD1', ('SD1', 'SDSD'), 1.0000000000000104), ('LF_NU', ('LF_NU', 'HF_NU'), 1.000000000000001), ('KURT', ('KURT', 'KURT_REL_RR'), 1.0), ('SKEW', ('SKEW', 'SKEW_REL_RR'), 1.0), ('RMSSD_REL_RR', ('RMSSD_REL_RR', 'SDSD_REL_RR'), 0.9999999999572793), ('RMSSD', ('RMSSD', 'SDSD'), 0.9999998264707147), ('SDRR', ('SD2', 'SDRR'), 0.9999972215849533), ('HF_NU', ('HF_NU', 'HF_LF'), 0.9961753424035372), ('VLF_PCT', ('VLF_PCT', 'LF_PCT'), 0.9952395745509537), ('MEAN_RR', ('MEAN_RR', 'MEDIAN_RR'), 0.9609491736076482), ('TP', ('VLF', 'TP'), 0.9517997470476465), ('SDSD', ('SDSD', 'pNN25'), 0.9517711780340457), ('pNN25', ('LF', 'pNN25'), 0.9157888760316598), ('SD2', ('SD2', 'SDRR_RMSSD'), 0.9154748170303951), ('SDSD_REL_RR', ('SDRR_REL_RR', 'SDSD_REL_RR'), 0.8994602585830078), ('HF_PCT', ('HF_PCT', 'HF_LF'), 0.8364211887125808)]\n"
     ]
    }
   ],
   "source": [
    "print(removidos)"
   ]
  },
  {
   "cell_type": "code",
   "execution_count": 35,
   "id": "2688dce4",
   "metadata": {},
   "outputs": [],
   "source": [
    "for i, j, k in removidos:\n",
    "    df_2.drop([i], axis=1, inplace=True)"
   ]
  },
  {
   "cell_type": "code",
   "execution_count": 37,
   "id": "057dcb1e",
   "metadata": {},
   "outputs": [
    {
     "name": "stdout",
     "output_type": "stream",
     "text": [
      "(369289, 17)\n",
      "Index(['sampen', 'higuci', 'VLF', 'LF', 'LF_PCT', 'HF', 'LF_HF', 'HF_LF',\n",
      "       'MEDIAN_RR', 'SDRR_RMSSD', 'pNN50', 'MEAN_REL_RR', 'MEDIAN_REL_RR',\n",
      "       'SDRR_REL_RR', 'SDRR_RMSSD_REL_RR', 'KURT_REL_RR', 'SKEW_REL_RR'],\n",
      "      dtype='object')\n"
     ]
    }
   ],
   "source": [
    "print(df_2.shape)\n",
    "print(df_2.columns)"
   ]
  },
  {
   "cell_type": "markdown",
   "id": "972cbad0",
   "metadata": {},
   "source": [
    "Centralizando e escalonando os dados para construir a PCA"
   ]
  },
  {
   "cell_type": "code",
   "execution_count": 40,
   "id": "dcaa9c22",
   "metadata": {},
   "outputs": [],
   "source": [
    "m = len(df_2)\n",
    "n = len(preditores)\n",
    "\n",
    "df_C_E = np.zeros((m, n))\n",
    "for j in range(n):  # para cada coluna\n",
    "    col_media = df_2.iloc[:, j].mean()\n",
    "    col_desvio_padrao = df_2.iloc[:, j].std()\n",
    "    for i in range(m):  # para cada linha\n",
    "        df_C_E[i, j] = (df_2.iloc[i, j] - col_media) / col_desvio_padrao\n",
    "\n",
    "# converte de volta pra DataFrame\n",
    "df_C_E = pd.DataFrame(df_C_E, columns=df_2.columns)"
   ]
  },
  {
   "cell_type": "code",
   "execution_count": 41,
   "id": "f56547e3",
   "metadata": {},
   "outputs": [
    {
     "name": "stdout",
     "output_type": "stream",
     "text": [
      "sampen              -8.277974e-16\n",
      "higuci               3.373523e-15\n",
      "VLF                  2.188013e-16\n",
      "LF                   1.318598e-16\n",
      "LF_PCT              -4.932574e-16\n",
      "HF                  -2.111998e-16\n",
      "LF_HF                2.115469e-17\n",
      "HF_LF                2.539366e-16\n",
      "MEDIAN_RR            1.171568e-15\n",
      "SDRR_RMSSD          -2.750624e-16\n",
      "pNN50               -1.240370e-15\n",
      "MEAN_REL_RR         -3.929940e-18\n",
      "MEDIAN_REL_RR        2.115109e-16\n",
      "SDRR_REL_RR         -7.293339e-16\n",
      "SDRR_RMSSD_REL_RR    1.072684e-15\n",
      "KURT_REL_RR          4.822053e-17\n",
      "SKEW_REL_RR          1.599319e-17\n",
      "dtype: float64 sampen               1.0\n",
      "higuci               1.0\n",
      "VLF                  1.0\n",
      "LF                   1.0\n",
      "LF_PCT               1.0\n",
      "HF                   1.0\n",
      "LF_HF                1.0\n",
      "HF_LF                1.0\n",
      "MEDIAN_RR            1.0\n",
      "SDRR_RMSSD           1.0\n",
      "pNN50                1.0\n",
      "MEAN_REL_RR          1.0\n",
      "MEDIAN_REL_RR        1.0\n",
      "SDRR_REL_RR          1.0\n",
      "SDRR_RMSSD_REL_RR    1.0\n",
      "KURT_REL_RR          1.0\n",
      "SKEW_REL_RR          1.0\n",
      "dtype: float64\n"
     ]
    }
   ],
   "source": [
    "print(df_C_E.mean(), df_C_E.std())"
   ]
  },
  {
   "cell_type": "code",
   "execution_count": 42,
   "id": "80434bbf",
   "metadata": {},
   "outputs": [
    {
     "name": "stdout",
     "output_type": "stream",
     "text": [
      "          sampen    higuci       VLF        LF    LF_PCT        HF     LF_HF  \\\n",
      "0       0.373347 -0.302405  0.254610  0.109234 -0.418915 -0.522546 -0.141218   \n",
      "1       0.541197 -1.569037  0.063161 -0.446586 -0.694566 -0.818018  0.585607   \n",
      "2       0.352070 -0.096115 -0.454734  0.612521  0.887760 -0.561157 -0.060125   \n",
      "3       0.559757 -0.041875  0.116081  0.103543 -0.299551 -0.463969 -0.168069   \n",
      "4       0.766426  1.082437 -0.577386  0.827717  1.256023  0.197587 -0.239679   \n",
      "...          ...       ...       ...       ...       ...       ...       ...   \n",
      "369284  0.166080  2.132382 -1.047251 -1.103180  0.880563 -0.022433 -0.298697   \n",
      "369285  0.332335 -0.101574 -0.353008 -0.399262 -0.162965 -0.807768  0.450891   \n",
      "369286  0.739961 -0.676295 -0.137234  2.490628  1.295188 -0.770028  1.214791   \n",
      "369287  0.140856 -0.005712 -0.326742  0.575783  0.591759  0.162792 -0.245506   \n",
      "369288  0.703973  0.832812 -0.432040  1.315066  1.213193  0.470285 -0.243577   \n",
      "\n",
      "           HF_LF  MEDIAN_RR  SDRR_RMSSD     pNN50  MEAN_REL_RR  MEDIAN_REL_RR  \\\n",
      "0      -0.672758   0.089161    0.323990 -0.335964    -1.234342       0.329592   \n",
      "1      -0.923072   0.804044   -0.218558 -0.874582    -0.350090       1.240128   \n",
      "2      -0.769710   0.491539   -0.430495 -0.672600    -0.056156       0.233261   \n",
      "3      -0.618055   0.389161   -0.320385 -0.739927     0.696325       1.105009   \n",
      "4      -0.296385  -0.232624   -0.802878 -0.672600    -0.600320      -2.617388   \n",
      "...          ...        ...         ...       ...          ...            ...   \n",
      "369284  1.494386  -0.910150   -0.702042 -0.874582     0.101661       0.631298   \n",
      "369285 -0.912248   1.032769   -0.379647 -0.672600    -0.664995       0.588613   \n",
      "369286 -0.948487   1.383019   -0.634144  1.212562    -1.314157      -2.041207   \n",
      "369287 -0.243496  -0.290251   -0.526707  0.606617     0.156888      -1.024051   \n",
      "369288 -0.261882  -0.202440   -0.800609 -0.335964    -0.081350      -2.320970   \n",
      "\n",
      "        SDRR_REL_RR  SDRR_RMSSD_REL_RR  KURT_REL_RR  SKEW_REL_RR  \n",
      "0         -0.273263           0.363247    -0.770682     0.419701  \n",
      "1         -0.842029           2.458563    -0.520248    -0.281498  \n",
      "2         -0.005791           0.319909    -0.095761    -0.998455  \n",
      "3         -0.148392           0.117523    -0.574292    -0.611512  \n",
      "4          0.943226          -0.506256    -0.598567    -0.280020  \n",
      "...             ...                ...          ...          ...  \n",
      "369284    -0.956776          -1.271134     0.270387     0.049087  \n",
      "369285    -0.835334           0.562722    -0.153194     0.180249  \n",
      "369286     0.757920           1.023784    -0.532254    -0.167184  \n",
      "369287     0.546001          -0.299363     0.043095    -0.966932  \n",
      "369288     1.247260          -0.345565    -0.514529    -0.333287  \n",
      "\n",
      "[369289 rows x 17 columns]\n"
     ]
    }
   ],
   "source": [
    "print(df_C_E)"
   ]
  },
  {
   "cell_type": "code",
   "execution_count": 43,
   "id": "b773110e",
   "metadata": {},
   "outputs": [
    {
     "name": "stdout",
     "output_type": "stream",
     "text": [
      "                     sampen    higuci       VLF        LF    LF_PCT        HF  \\\n",
      "sampen             1.000000  0.077104 -0.290457  0.222920  0.415872 -0.171254   \n",
      "higuci             0.077104  1.000000 -0.570043  0.035736  0.496831  0.434092   \n",
      "VLF               -0.290457 -0.570043  1.000000  0.026521 -0.664830 -0.010441   \n",
      "LF                 0.222920  0.035736  0.026521  1.000000  0.570404  0.315662   \n",
      "LF_PCT             0.415872  0.496831 -0.664830  0.570404  1.000000  0.216789   \n",
      "HF                -0.171254  0.434092 -0.010441  0.315662  0.216789  1.000000   \n",
      "LF_HF              0.108667 -0.244251  0.126668  0.099452 -0.082040 -0.220058   \n",
      "HF_LF             -0.297841  0.563333 -0.094013 -0.235807 -0.048411  0.757545   \n",
      "MEDIAN_RR          0.235890 -0.461297  0.399023  0.084147 -0.262426 -0.550244   \n",
      "SDRR_RMSSD        -0.680969 -0.455149  0.617610 -0.276739 -0.637903 -0.062388   \n",
      "pNN50             -0.102221 -0.153064  0.529802  0.670072  0.003415  0.412257   \n",
      "MEAN_REL_RR       -0.047586  0.027664 -0.026638 -0.022014 -0.003950  0.018999   \n",
      "MEDIAN_REL_RR     -0.252476 -0.206484  0.237918 -0.550557 -0.602589 -0.168666   \n",
      "SDRR_REL_RR       -0.041208  0.180342  0.242427  0.783464  0.327483  0.732687   \n",
      "SDRR_RMSSD_REL_RR  0.221760 -0.763581  0.303226  0.077445 -0.215372 -0.581391   \n",
      "KURT_REL_RR       -0.466085  0.132065 -0.050392 -0.144318 -0.106355  0.085113   \n",
      "SKEW_REL_RR       -0.518526 -0.083808  0.236819 -0.075650 -0.238718  0.184903   \n",
      "\n",
      "                      LF_HF     HF_LF  MEDIAN_RR  SDRR_RMSSD     pNN50  \\\n",
      "sampen             0.108667 -0.297841   0.235890   -0.680969 -0.102221   \n",
      "higuci            -0.244251  0.563333  -0.461297   -0.455149 -0.153064   \n",
      "VLF                0.126668 -0.094013   0.399023    0.617610  0.529802   \n",
      "LF                 0.099452 -0.235807   0.084147   -0.276739  0.670072   \n",
      "LF_PCT            -0.082040 -0.048411  -0.262426   -0.637903  0.003415   \n",
      "HF                -0.220058  0.757545  -0.550244   -0.062388  0.412257   \n",
      "LF_HF              1.000000 -0.260334   0.421338   -0.040053  0.065119   \n",
      "HF_LF             -0.260334  1.000000  -0.602190    0.036832  0.030559   \n",
      "MEDIAN_RR          0.421338 -0.602190   1.000000    0.203815  0.196992   \n",
      "SDRR_RMSSD        -0.040053  0.036832   0.203815    1.000000  0.187629   \n",
      "pNN50              0.065119  0.030559   0.196992    0.187629  1.000000   \n",
      "MEAN_REL_RR        0.001502  0.034234  -0.018019    0.014103 -0.039165   \n",
      "MEDIAN_REL_RR     -0.054756  0.114673  -0.006349    0.300669 -0.190604   \n",
      "SDRR_REL_RR       -0.069479  0.257943  -0.157426   -0.048227  0.756253   \n",
      "SDRR_RMSSD_REL_RR  0.428285 -0.729460   0.635819    0.078020  0.012339   \n",
      "KURT_REL_RR       -0.074650  0.207900  -0.284508   -0.029829 -0.064263   \n",
      "SKEW_REL_RR       -0.080524  0.198761  -0.317130    0.313448  0.088570   \n",
      "\n",
      "                   MEAN_REL_RR  MEDIAN_REL_RR  SDRR_REL_RR  SDRR_RMSSD_REL_RR  \\\n",
      "sampen               -0.047586      -0.252476    -0.041208           0.221760   \n",
      "higuci                0.027664      -0.206484     0.180342          -0.763581   \n",
      "VLF                  -0.026638       0.237918     0.242427           0.303226   \n",
      "LF                   -0.022014      -0.550557     0.783464           0.077445   \n",
      "LF_PCT               -0.003950      -0.602589     0.327483          -0.215372   \n",
      "HF                    0.018999      -0.168666     0.732687          -0.581391   \n",
      "LF_HF                 0.001502      -0.054756    -0.069479           0.428285   \n",
      "HF_LF                 0.034234       0.114673     0.257943          -0.729460   \n",
      "MEDIAN_RR            -0.018019      -0.006349    -0.157426           0.635819   \n",
      "SDRR_RMSSD            0.014103       0.300669    -0.048227           0.078020   \n",
      "pNN50                -0.039165      -0.190604     0.756253           0.012339   \n",
      "MEAN_REL_RR           1.000000       0.134923    -0.013210          -0.035138   \n",
      "MEDIAN_REL_RR         0.134923       1.000000    -0.365886           0.024994   \n",
      "SDRR_REL_RR          -0.013210      -0.365886     1.000000          -0.266828   \n",
      "SDRR_RMSSD_REL_RR    -0.035138       0.024994    -0.266828           1.000000   \n",
      "KURT_REL_RR           0.045365       0.110422    -0.048772          -0.199930   \n",
      "SKEW_REL_RR           0.010727       0.089557     0.067495          -0.123864   \n",
      "\n",
      "                   KURT_REL_RR  SKEW_REL_RR  \n",
      "sampen               -0.466085    -0.518526  \n",
      "higuci                0.132065    -0.083808  \n",
      "VLF                  -0.050392     0.236819  \n",
      "LF                   -0.144318    -0.075650  \n",
      "LF_PCT               -0.106355    -0.238718  \n",
      "HF                    0.085113     0.184903  \n",
      "LF_HF                -0.074650    -0.080524  \n",
      "HF_LF                 0.207900     0.198761  \n",
      "MEDIAN_RR            -0.284508    -0.317130  \n",
      "SDRR_RMSSD           -0.029829     0.313448  \n",
      "pNN50                -0.064263     0.088570  \n",
      "MEAN_REL_RR           0.045365     0.010727  \n",
      "MEDIAN_REL_RR         0.110422     0.089557  \n",
      "SDRR_REL_RR          -0.048772     0.067495  \n",
      "SDRR_RMSSD_REL_RR    -0.199930    -0.123864  \n",
      "KURT_REL_RR           1.000000     0.422348  \n",
      "SKEW_REL_RR           0.422348     1.000000  \n"
     ]
    }
   ],
   "source": [
    "matriz_cov = df_C_E.cov()\n",
    "print(matriz_cov)"
   ]
  },
  {
   "cell_type": "code",
   "execution_count": 45,
   "id": "b668fea3",
   "metadata": {},
   "outputs": [
    {
     "name": "stdout",
     "output_type": "stream",
     "text": [
      "[4.35651805 3.49856446 3.02080098 1.28020586 1.02739703 0.88268936\n",
      " 0.6944567  0.62536093 0.4498584  0.3966899  0.21247288 0.02936942\n",
      " 0.06178    0.05481928 0.16467581 0.13486501 0.1094759 ] [[ 1.24251952e-02  4.25895766e-01  1.16620988e-01  2.49104331e-01\n",
      "  -1.03288987e-02  5.80085965e-02  3.79498773e-01  1.98356410e-01\n",
      "   4.11952406e-01 -2.80870344e-03  6.11464753e-02 -2.83368512e-02\n",
      "   4.02550614e-01 -9.10565185e-02 -1.11561783e-01 -4.45991227e-01\n",
      "  -4.65690576e-03]\n",
      " [ 3.86960288e-01  9.72378665e-03  1.80768208e-01  8.80814051e-02\n",
      "  -3.67830443e-02  1.78475780e-01 -1.76877670e-01 -3.07268410e-01\n",
      "   2.29777466e-01 -3.76810201e-01 -7.83584933e-02  2.47324393e-02\n",
      "   4.50530600e-01  9.68907204e-02  2.85454336e-01  3.72539431e-01\n",
      "  -1.29053188e-01]\n",
      " [-2.40626693e-01 -1.89018930e-01 -3.83370421e-01  1.57783226e-01\n",
      "   2.01864198e-02  3.21523371e-02  1.46525768e-01 -2.85609559e-02\n",
      "   3.25053545e-01  5.85950376e-02  3.77047920e-01  2.66394387e-01\n",
      "  -1.22201931e-01  4.90725127e-02  3.61838466e-01  4.52792767e-02\n",
      "  -4.88090585e-01]\n",
      " [ 1.56918808e-01  2.95902340e-01 -3.91927410e-01 -1.76758721e-01\n",
      "  -6.33132260e-02 -1.18484960e-01  6.00321456e-02 -4.34389276e-02\n",
      "  -1.98718774e-01 -1.79754388e-01  2.82129149e-02  4.86108770e-01\n",
      "   8.22109781e-02 -5.49706954e-01  1.13497174e-01  4.99099086e-02\n",
      "   2.14993070e-01]\n",
      " [ 3.00427821e-01  3.45847747e-01  4.37295328e-02 -1.92966433e-01\n",
      "  -1.56635815e-02 -1.51456362e-01 -1.38737261e-01  2.68527889e-02\n",
      "  -2.17036143e-01 -1.27542379e-01 -1.70360156e-01  3.17037509e-02\n",
      "  -2.08438178e-01  1.35753465e-01 -3.32925866e-03 -3.16191731e-01\n",
      "  -6.72731327e-01]\n",
      " [ 3.67278189e-01 -1.37005705e-01 -2.36015550e-01  1.68991000e-01\n",
      "  -3.72518423e-02  1.56436728e-01  7.42672287e-02  2.28591479e-01\n",
      "  -7.34894460e-02  2.77494309e-01 -3.18718569e-01  4.18608320e-01\n",
      "   4.83397761e-02  4.94738838e-01  1.13428027e-01 -1.29679641e-01\n",
      "   2.06011685e-01]\n",
      " [-1.80235505e-01  1.48597422e-01 -8.14169227e-02 -1.61453000e-01\n",
      "  -2.19214601e-01  8.04557591e-01 -2.64724594e-01  2.11790227e-01\n",
      "  -1.76369270e-01 -1.12913640e-01  2.15064467e-01 -9.53877276e-03\n",
      "   3.87369682e-02  3.25093798e-02 -3.41981568e-02 -9.09924570e-02\n",
      "  -1.51702210e-02]\n",
      " [ 3.13844493e-01 -2.98863431e-01  2.01916719e-02  2.65441489e-01\n",
      "  -1.67108805e-02  2.99082694e-01 -3.24112705e-02  1.00584725e-01\n",
      "   1.24785318e-01  2.43165664e-01 -2.80736924e-01 -7.26636109e-02\n",
      "  -1.58975928e-01 -6.02281498e-01 -1.68883856e-01  3.75419868e-02\n",
      "  -2.52341563e-01]\n",
      " [-3.41981243e-01  2.00612914e-01 -1.35828111e-01  1.12277596e-01\n",
      "  -5.58208806e-02  1.33470207e-01 -1.60470620e-01 -4.17663271e-01\n",
      "   3.20805286e-01 -1.38639363e-01 -5.42589941e-01  3.99846236e-02\n",
      "  -3.20963745e-01  1.47542436e-02  9.60987481e-02 -1.92481480e-01\n",
      "   1.51542201e-01]\n",
      " [-2.14513835e-01 -3.37383871e-01 -1.99940659e-01  1.15718691e-01\n",
      "   9.71636272e-02 -1.93460017e-01 -4.89395420e-01 -3.35296481e-02\n",
      "  -1.47777807e-01 -1.87918971e-02 -8.14658315e-02  6.73420828e-03\n",
      "   5.26626592e-01 -9.73991540e-02 -3.44029911e-02 -4.17792830e-01\n",
      "  -8.86519453e-02]\n",
      " [ 5.35832667e-02  2.63880581e-02 -5.25232487e-01  6.51899314e-02\n",
      "  -3.86655399e-02  2.29941832e-02  1.46533328e-01 -2.05101626e-01\n",
      "   1.92403554e-02 -1.51690694e-01 -1.18055845e-02 -1.11832153e-01\n",
      "   1.07442969e-01  1.96730326e-01 -7.05492704e-01  2.21995653e-01\n",
      "  -1.32197822e-01]\n",
      " [ 6.11359697e-03 -4.26849505e-02  3.15282744e-02  3.53090413e-02\n",
      "  -9.37093776e-01 -2.63721649e-01 -1.30116785e-01  6.33623644e-02\n",
      "   1.29056652e-01  8.65661808e-02  3.80241788e-02 -1.10643126e-02\n",
      "   4.75902557e-03  6.06877371e-03 -2.76103166e-02  2.67545220e-02\n",
      "   2.37596207e-03]\n",
      " [-1.75051685e-01 -2.92115721e-01  1.41142348e-01  2.68273587e-01\n",
      "  -1.88349270e-01  7.93714954e-02  5.12051837e-01 -3.98965235e-02\n",
      "  -4.48423393e-01 -4.77005664e-01 -1.65405688e-01  3.11548579e-02\n",
      "  -2.71640683e-03 -2.01768113e-02  8.69675843e-02 -1.19472085e-01\n",
      "  -8.58504694e-02]\n",
      " [ 2.56805132e-01  5.77272552e-02 -4.58903611e-01  5.44033039e-02\n",
      "  -4.77053245e-02 -1.02203790e-03  8.92519238e-02 -1.44773114e-02\n",
      "  -1.06586485e-01  9.65975316e-03  3.63376187e-02 -6.92456738e-01\n",
      "  -2.95746201e-02 -2.04070587e-02  4.19145693e-01 -1.35206254e-01\n",
      "   1.38522227e-01]\n",
      " [-3.76570934e-01  2.03193454e-01 -7.99550156e-02 -1.72252866e-01\n",
      "  -2.54793599e-02 -6.78910937e-03  1.60927309e-01  2.26394239e-01\n",
      "  -1.24225300e-01  3.00349423e-01 -4.66912533e-01 -1.08616804e-01\n",
      "   3.39453331e-01 -3.00924680e-02  1.65137373e-01  4.03817664e-01\n",
      "  -2.47135297e-01]\n",
      " [ 8.00016404e-02 -2.44670961e-01  5.76929840e-02 -5.86851954e-01\n",
      "  -1.08378074e-01  1.71493272e-01  3.19095531e-01 -4.98674044e-01\n",
      "   4.63396914e-02  2.95836730e-01 -6.50494453e-04  1.82424189e-02\n",
      "   1.73509385e-01 -2.37232561e-02  6.62253004e-04 -2.68142143e-01\n",
      "  -4.23055388e-02]\n",
      " [ 2.78475888e-02 -3.14710787e-01 -1.13871343e-01 -4.80873182e-01\n",
      "   4.25929838e-02 -6.67701811e-02  4.67378342e-02  4.81882638e-01\n",
      "   4.01698966e-01 -4.49085009e-01 -2.05370302e-01 -5.32752927e-02\n",
      "  -5.08928139e-02 -1.95778608e-03 -1.65756314e-02 -4.64851603e-02\n",
      "   4.71599011e-02]]\n"
     ]
    }
   ],
   "source": [
    "autovalores, autovetores = np.linalg.eig(matriz_cov)\n",
    "print(autovalores, autovetores)"
   ]
  }
 ],
 "metadata": {
  "kernelspec": {
   "display_name": "Python 3",
   "language": "python",
   "name": "python3"
  },
  "language_info": {
   "codemirror_mode": {
    "name": "ipython",
    "version": 3
   },
   "file_extension": ".py",
   "mimetype": "text/x-python",
   "name": "python",
   "nbconvert_exporter": "python",
   "pygments_lexer": "ipython3",
   "version": "3.12.2"
  }
 },
 "nbformat": 4,
 "nbformat_minor": 5
}
